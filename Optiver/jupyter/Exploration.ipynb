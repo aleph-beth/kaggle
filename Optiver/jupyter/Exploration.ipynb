{
 "cells": [
  {
   "cell_type": "code",
   "execution_count": null,
   "id": "bd71a66c-cb2c-4018-b482-693655db27ac",
   "metadata": {},
   "outputs": [],
   "source": [
    "import cudf, io, requests\n",
    "from io import StringIO\n",
    "\n",
    "url = \"../data/book_train.parquet/stock_id=0/\"\n",
    "content = requests.get(url).content.decode('utf-8')\n",
    "\n",
    "tips_df = cudf.read_csv(StringIO(content))\n",
    "tips_df['tip_percentage'] = tips_df['tip'] / tips_df['total_bill'] * 100\n",
    "\n",
    "# display average tip by dining party size\n",
    "print(tips_df.groupby('size').tip_percentage.mean())"
   ]
  },
  {
   "cell_type": "code",
   "execution_count": 1,
   "id": "5bace46d-f752-458d-b9b2-ce4b556d30e2",
   "metadata": {},
   "outputs": [
    {
     "data": {
      "text/plain": [
       "['../data/book_train.parquet/stock_id=0/c439ef22282f412ba39e9137a3fdabac.parquet']"
      ]
     },
     "execution_count": 1,
     "metadata": {},
     "output_type": "execute_result"
    }
   ],
   "source": [
    "import glob\n",
    "glob.glob(\"../data/book_train.parquet/stock_id=0/*\")"
   ]
  },
  {
   "cell_type": "code",
   "execution_count": null,
   "id": "3e8c3d2a-a9dc-43f5-8b75-362afa02417a",
   "metadata": {},
   "outputs": [],
   "source": []
  }
 ],
 "metadata": {
  "kernelspec": {
   "display_name": "Python 3",
   "language": "python",
   "name": "python3"
  },
  "language_info": {
   "codemirror_mode": {
    "name": "ipython",
    "version": 3
   },
   "file_extension": ".py",
   "mimetype": "text/x-python",
   "name": "python",
   "nbconvert_exporter": "python",
   "pygments_lexer": "ipython3",
   "version": "3.9.6"
  }
 },
 "nbformat": 4,
 "nbformat_minor": 5
}
